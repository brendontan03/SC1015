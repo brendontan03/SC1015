{
 "cells": [
  {
   "cell_type": "code",
   "execution_count": 9,
   "id": "de96c654",
   "metadata": {},
   "outputs": [],
   "source": [
    "import pandas as pd\n",
    "import numpy as np\n",
    "import seaborn as sb\n",
    "import matplotlib.pyplot as plt\n",
    "sb.set()"
   ]
  },
  {
   "cell_type": "code",
   "execution_count": 10,
   "id": "a4834d93",
   "metadata": {},
   "outputs": [
    {
     "data": {
      "text/html": [
       "<div>\n",
       "<style scoped>\n",
       "    .dataframe tbody tr th:only-of-type {\n",
       "        vertical-align: middle;\n",
       "    }\n",
       "\n",
       "    .dataframe tbody tr th {\n",
       "        vertical-align: top;\n",
       "    }\n",
       "\n",
       "    .dataframe thead th {\n",
       "        text-align: right;\n",
       "    }\n",
       "</style>\n",
       "<table border=\"1\" class=\"dataframe\">\n",
       "  <thead>\n",
       "    <tr style=\"text-align: right;\">\n",
       "      <th></th>\n",
       "      <th>Country</th>\n",
       "      <th>year</th>\n",
       "      <th>gdp_per_capita ($)</th>\n",
       "      <th>Total_Population</th>\n",
       "      <th>suicides_no</th>\n",
       "      <th>suicides/100k_pop</th>\n",
       "      <th>percentage of elderly(%)</th>\n",
       "      <th>Education index</th>\n",
       "      <th>Inflation, consumer prices (annual %)</th>\n",
       "      <th>Unemployment Rate</th>\n",
       "    </tr>\n",
       "  </thead>\n",
       "  <tbody>\n",
       "    <tr>\n",
       "      <th>0</th>\n",
       "      <td>Albania</td>\n",
       "      <td>1987</td>\n",
       "      <td>796</td>\n",
       "      <td>2709600</td>\n",
       "      <td>73</td>\n",
       "      <td>2.69</td>\n",
       "      <td>2.118394</td>\n",
       "      <td>NaN</td>\n",
       "      <td>NaN</td>\n",
       "      <td>NaN</td>\n",
       "    </tr>\n",
       "    <tr>\n",
       "      <th>1</th>\n",
       "      <td>Albania</td>\n",
       "      <td>1988</td>\n",
       "      <td>769</td>\n",
       "      <td>2764300</td>\n",
       "      <td>63</td>\n",
       "      <td>2.28</td>\n",
       "      <td>2.123503</td>\n",
       "      <td>NaN</td>\n",
       "      <td>NaN</td>\n",
       "      <td>NaN</td>\n",
       "    </tr>\n",
       "    <tr>\n",
       "      <th>2</th>\n",
       "      <td>Albania</td>\n",
       "      <td>1989</td>\n",
       "      <td>833</td>\n",
       "      <td>2803100</td>\n",
       "      <td>68</td>\n",
       "      <td>2.43</td>\n",
       "      <td>2.122650</td>\n",
       "      <td>NaN</td>\n",
       "      <td>NaN</td>\n",
       "      <td>NaN</td>\n",
       "    </tr>\n",
       "    <tr>\n",
       "      <th>3</th>\n",
       "      <td>Albania</td>\n",
       "      <td>1992</td>\n",
       "      <td>251</td>\n",
       "      <td>2822500</td>\n",
       "      <td>47</td>\n",
       "      <td>1.67</td>\n",
       "      <td>2.217892</td>\n",
       "      <td>0.557</td>\n",
       "      <td>226.005421</td>\n",
       "      <td>30.014999</td>\n",
       "    </tr>\n",
       "    <tr>\n",
       "      <th>4</th>\n",
       "      <td>Albania</td>\n",
       "      <td>1993</td>\n",
       "      <td>437</td>\n",
       "      <td>2807300</td>\n",
       "      <td>73</td>\n",
       "      <td>2.60</td>\n",
       "      <td>2.261960</td>\n",
       "      <td>0.542</td>\n",
       "      <td>85.004751</td>\n",
       "      <td>25.257999</td>\n",
       "    </tr>\n",
       "    <tr>\n",
       "      <th>...</th>\n",
       "      <td>...</td>\n",
       "      <td>...</td>\n",
       "      <td>...</td>\n",
       "      <td>...</td>\n",
       "      <td>...</td>\n",
       "      <td>...</td>\n",
       "      <td>...</td>\n",
       "      <td>...</td>\n",
       "      <td>...</td>\n",
       "      <td>...</td>\n",
       "    </tr>\n",
       "    <tr>\n",
       "      <th>2316</th>\n",
       "      <td>Uzbekistan</td>\n",
       "      <td>2010</td>\n",
       "      <td>1533</td>\n",
       "      <td>25651783</td>\n",
       "      <td>1464</td>\n",
       "      <td>5.71</td>\n",
       "      <td>2.023481</td>\n",
       "      <td>0.674</td>\n",
       "      <td>NaN</td>\n",
       "      <td>5.400000</td>\n",
       "    </tr>\n",
       "    <tr>\n",
       "      <th>2317</th>\n",
       "      <td>Uzbekistan</td>\n",
       "      <td>2011</td>\n",
       "      <td>1767</td>\n",
       "      <td>25978049</td>\n",
       "      <td>1640</td>\n",
       "      <td>6.31</td>\n",
       "      <td>2.061810</td>\n",
       "      <td>0.681</td>\n",
       "      <td>NaN</td>\n",
       "      <td>5.000000</td>\n",
       "    </tr>\n",
       "    <tr>\n",
       "      <th>2318</th>\n",
       "      <td>Uzbekistan</td>\n",
       "      <td>2012</td>\n",
       "      <td>1964</td>\n",
       "      <td>26381830</td>\n",
       "      <td>1835</td>\n",
       "      <td>6.96</td>\n",
       "      <td>2.093373</td>\n",
       "      <td>0.692</td>\n",
       "      <td>NaN</td>\n",
       "      <td>4.900000</td>\n",
       "    </tr>\n",
       "    <tr>\n",
       "      <th>2319</th>\n",
       "      <td>Uzbekistan</td>\n",
       "      <td>2013</td>\n",
       "      <td>2150</td>\n",
       "      <td>26838924</td>\n",
       "      <td>1950</td>\n",
       "      <td>7.27</td>\n",
       "      <td>2.109556</td>\n",
       "      <td>0.699</td>\n",
       "      <td>NaN</td>\n",
       "      <td>4.900000</td>\n",
       "    </tr>\n",
       "    <tr>\n",
       "      <th>2320</th>\n",
       "      <td>Uzbekistan</td>\n",
       "      <td>2014</td>\n",
       "      <td>2309</td>\n",
       "      <td>27313507</td>\n",
       "      <td>2095</td>\n",
       "      <td>7.67</td>\n",
       "      <td>2.099547</td>\n",
       "      <td>0.701</td>\n",
       "      <td>NaN</td>\n",
       "      <td>5.100000</td>\n",
       "    </tr>\n",
       "  </tbody>\n",
       "</table>\n",
       "<p>2321 rows × 10 columns</p>\n",
       "</div>"
      ],
      "text/plain": [
       "         Country  year  gdp_per_capita ($)  Total_Population  suicides_no  \\\n",
       "0        Albania  1987                 796           2709600           73   \n",
       "1        Albania  1988                 769           2764300           63   \n",
       "2        Albania  1989                 833           2803100           68   \n",
       "3        Albania  1992                 251           2822500           47   \n",
       "4        Albania  1993                 437           2807300           73   \n",
       "...          ...   ...                 ...               ...          ...   \n",
       "2316  Uzbekistan  2010                1533          25651783         1464   \n",
       "2317  Uzbekistan  2011                1767          25978049         1640   \n",
       "2318  Uzbekistan  2012                1964          26381830         1835   \n",
       "2319  Uzbekistan  2013                2150          26838924         1950   \n",
       "2320  Uzbekistan  2014                2309          27313507         2095   \n",
       "\n",
       "      suicides/100k_pop  percentage of elderly(%)  Education index  \\\n",
       "0                  2.69                  2.118394              NaN   \n",
       "1                  2.28                  2.123503              NaN   \n",
       "2                  2.43                  2.122650              NaN   \n",
       "3                  1.67                  2.217892            0.557   \n",
       "4                  2.60                  2.261960            0.542   \n",
       "...                 ...                       ...              ...   \n",
       "2316               5.71                  2.023481            0.674   \n",
       "2317               6.31                  2.061810            0.681   \n",
       "2318               6.96                  2.093373            0.692   \n",
       "2319               7.27                  2.109556            0.699   \n",
       "2320               7.67                  2.099547            0.701   \n",
       "\n",
       "      Inflation, consumer prices (annual %)  Unemployment Rate  \n",
       "0                                       NaN                NaN  \n",
       "1                                       NaN                NaN  \n",
       "2                                       NaN                NaN  \n",
       "3                                226.005421          30.014999  \n",
       "4                                 85.004751          25.257999  \n",
       "...                                     ...                ...  \n",
       "2316                                    NaN           5.400000  \n",
       "2317                                    NaN           5.000000  \n",
       "2318                                    NaN           4.900000  \n",
       "2319                                    NaN           4.900000  \n",
       "2320                                    NaN           5.100000  \n",
       "\n",
       "[2321 rows x 10 columns]"
      ]
     },
     "execution_count": 10,
     "metadata": {},
     "output_type": "execute_result"
    }
   ],
   "source": [
    "merged = pd.read_csv('merged.csv')\n",
    "merged"
   ]
  },
  {
   "cell_type": "markdown",
   "id": "5b631a6d",
   "metadata": {},
   "source": [
    "## Policy Analysis\n",
    "\n",
    "Now that we have discovered that education index is the greatest contributor to the change in suicide rates, we decided to look zoom in on two different countries and how their policies affected their education index and overall suicide rates.\n",
    "\n",
    "First we look at the correlation between education index and suicides per 100k population. \n"
   ]
  },
  {
   "cell_type": "code",
   "execution_count": 11,
   "id": "feb03dac",
   "metadata": {},
   "outputs": [
    {
     "data": {
      "text/html": [
       "<div>\n",
       "<style scoped>\n",
       "    .dataframe tbody tr th:only-of-type {\n",
       "        vertical-align: middle;\n",
       "    }\n",
       "\n",
       "    .dataframe tbody tr th {\n",
       "        vertical-align: top;\n",
       "    }\n",
       "\n",
       "    .dataframe thead th {\n",
       "        text-align: right;\n",
       "    }\n",
       "</style>\n",
       "<table border=\"1\" class=\"dataframe\">\n",
       "  <thead>\n",
       "    <tr style=\"text-align: right;\">\n",
       "      <th></th>\n",
       "      <th>Country</th>\n",
       "      <th>Education index</th>\n",
       "    </tr>\n",
       "  </thead>\n",
       "  <tbody>\n",
       "    <tr>\n",
       "      <th>0</th>\n",
       "      <td>Albania</td>\n",
       "      <td>-0.022644</td>\n",
       "    </tr>\n",
       "    <tr>\n",
       "      <th>1</th>\n",
       "      <td>Albania</td>\n",
       "      <td>1.000000</td>\n",
       "    </tr>\n",
       "    <tr>\n",
       "      <th>2</th>\n",
       "      <td>Antigua and Barbuda</td>\n",
       "      <td>0.004615</td>\n",
       "    </tr>\n",
       "    <tr>\n",
       "      <th>3</th>\n",
       "      <td>Antigua and Barbuda</td>\n",
       "      <td>1.000000</td>\n",
       "    </tr>\n",
       "    <tr>\n",
       "      <th>4</th>\n",
       "      <td>Argentina</td>\n",
       "      <td>0.594827</td>\n",
       "    </tr>\n",
       "    <tr>\n",
       "      <th>...</th>\n",
       "      <td>...</td>\n",
       "      <td>...</td>\n",
       "    </tr>\n",
       "    <tr>\n",
       "      <th>197</th>\n",
       "      <td>United States</td>\n",
       "      <td>1.000000</td>\n",
       "    </tr>\n",
       "    <tr>\n",
       "      <th>198</th>\n",
       "      <td>Uruguay</td>\n",
       "      <td>0.766033</td>\n",
       "    </tr>\n",
       "    <tr>\n",
       "      <th>199</th>\n",
       "      <td>Uruguay</td>\n",
       "      <td>1.000000</td>\n",
       "    </tr>\n",
       "    <tr>\n",
       "      <th>200</th>\n",
       "      <td>Uzbekistan</td>\n",
       "      <td>-0.252281</td>\n",
       "    </tr>\n",
       "    <tr>\n",
       "      <th>201</th>\n",
       "      <td>Uzbekistan</td>\n",
       "      <td>1.000000</td>\n",
       "    </tr>\n",
       "  </tbody>\n",
       "</table>\n",
       "<p>202 rows × 2 columns</p>\n",
       "</div>"
      ],
      "text/plain": [
       "                 Country  Education index\n",
       "0                Albania        -0.022644\n",
       "1                Albania         1.000000\n",
       "2    Antigua and Barbuda         0.004615\n",
       "3    Antigua and Barbuda         1.000000\n",
       "4              Argentina         0.594827\n",
       "..                   ...              ...\n",
       "197        United States         1.000000\n",
       "198              Uruguay         0.766033\n",
       "199              Uruguay         1.000000\n",
       "200           Uzbekistan        -0.252281\n",
       "201           Uzbekistan         1.000000\n",
       "\n",
       "[202 rows x 2 columns]"
      ]
     },
     "execution_count": 11,
     "metadata": {},
     "output_type": "execute_result"
    }
   ],
   "source": [
    "correlation = merged.groupby('Country')[['suicides/100k_pop','Education index']].corr()\n",
    "\n",
    "correlation = correlation.reset_index()\n",
    "\n",
    "correlation= correlation.drop(columns=[\"level_1\", \"suicides/100k_pop\"])\n",
    "\n",
    "correlation\n",
    "\n"
   ]
  },
  {
   "cell_type": "code",
   "execution_count": 12,
   "id": "ece6097d",
   "metadata": {},
   "outputs": [
    {
     "data": {
      "text/html": [
       "<div>\n",
       "<style scoped>\n",
       "    .dataframe tbody tr th:only-of-type {\n",
       "        vertical-align: middle;\n",
       "    }\n",
       "\n",
       "    .dataframe tbody tr th {\n",
       "        vertical-align: top;\n",
       "    }\n",
       "\n",
       "    .dataframe thead th {\n",
       "        text-align: right;\n",
       "    }\n",
       "</style>\n",
       "<table border=\"1\" class=\"dataframe\">\n",
       "  <thead>\n",
       "    <tr style=\"text-align: right;\">\n",
       "      <th></th>\n",
       "      <th>Country</th>\n",
       "      <th>Corr suicide rate/education index</th>\n",
       "    </tr>\n",
       "  </thead>\n",
       "  <tbody>\n",
       "    <tr>\n",
       "      <th>14</th>\n",
       "      <td>Bosnia and Herzegovina</td>\n",
       "      <td>1.000000</td>\n",
       "    </tr>\n",
       "    <tr>\n",
       "      <th>58</th>\n",
       "      <td>Mexico</td>\n",
       "      <td>0.956857</td>\n",
       "    </tr>\n",
       "    <tr>\n",
       "      <th>73</th>\n",
       "      <td>Republic of Korea</td>\n",
       "      <td>0.945125</td>\n",
       "    </tr>\n",
       "    <tr>\n",
       "      <th>15</th>\n",
       "      <td>Brazil</td>\n",
       "      <td>0.936263</td>\n",
       "    </tr>\n",
       "    <tr>\n",
       "      <th>24</th>\n",
       "      <td>Cyprus</td>\n",
       "      <td>0.928432</td>\n",
       "    </tr>\n",
       "    <tr>\n",
       "      <th>...</th>\n",
       "      <td>...</td>\n",
       "      <td>...</td>\n",
       "    </tr>\n",
       "    <tr>\n",
       "      <th>35</th>\n",
       "      <td>Germany</td>\n",
       "      <td>-0.962258</td>\n",
       "    </tr>\n",
       "    <tr>\n",
       "      <th>32</th>\n",
       "      <td>Finland</td>\n",
       "      <td>-0.965625</td>\n",
       "    </tr>\n",
       "    <tr>\n",
       "      <th>51</th>\n",
       "      <td>Latvia</td>\n",
       "      <td>-0.967904</td>\n",
       "    </tr>\n",
       "    <tr>\n",
       "      <th>30</th>\n",
       "      <td>Estonia</td>\n",
       "      <td>-0.980657</td>\n",
       "    </tr>\n",
       "    <tr>\n",
       "      <th>65</th>\n",
       "      <td>Oman</td>\n",
       "      <td>-0.999765</td>\n",
       "    </tr>\n",
       "  </tbody>\n",
       "</table>\n",
       "<p>90 rows × 2 columns</p>\n",
       "</div>"
      ],
      "text/plain": [
       "                   Country  Corr suicide rate/education index\n",
       "14  Bosnia and Herzegovina                           1.000000\n",
       "58                  Mexico                           0.956857\n",
       "73       Republic of Korea                           0.945125\n",
       "15                  Brazil                           0.936263\n",
       "24                  Cyprus                           0.928432\n",
       "..                     ...                                ...\n",
       "35                 Germany                          -0.962258\n",
       "32                 Finland                          -0.965625\n",
       "51                  Latvia                          -0.967904\n",
       "30                 Estonia                          -0.980657\n",
       "65                    Oman                          -0.999765\n",
       "\n",
       "[90 rows x 2 columns]"
      ]
     },
     "execution_count": 12,
     "metadata": {},
     "output_type": "execute_result"
    }
   ],
   "source": [
    "correlation= correlation[correlation.index % 2 == 0]\n",
    "correlation\n",
    "\n",
    "correlation = correlation.reset_index()\n",
    "correlation=correlation.drop(columns=[\"index\"])\n",
    "correlation=correlation.dropna()\n",
    "correlation=correlation.sort_values([\"Education index\"], ascending=False)\n",
    "correlation=correlation.rename(columns={\"Education index\": \"Corr suicide rate/education index\"})\n",
    "correlation\n"
   ]
  },
  {
   "cell_type": "markdown",
   "id": "079249df",
   "metadata": {},
   "source": [
    "## Policy 1\n",
    "\n",
    "Bosnia and Herzegovina has the highest correlation (1) between suicide rates and education index, meaning a 1% increase in education index results in a 1% increase in suicide rate. However, the data only includes 2011 and 2014, making the results unreliable due to the small sample size.\n",
    "\n",
    "In that regard, Mexico has the second highest correlation and has sufficient data from 1991 to 2015. Thus using Mexico as reference, we will be exploring how a policy in Mexico affects sucide rates.\n",
    "\n",
    "Mexico created the Fund for Education and Payroll Operating Expenses, FONE for short, which was officially introduced in 2015. FONE aims to reallocate funds more efficiently and equitably to allow for greater funding to reach the most disadvantaged regions. It will include funding education services and teachers colleges.\n",
    "\n",
    "After this policy was introduced in 2015, This surprisingly seems to decrease the sucide rate for teachers in the education system as most teachers not only felt that they were underpaid but that they were also unqualified to teach a huge class of students. After receiving a fair amount of pay, teachers would likely be more contempt with their job, and together with the increase in skill level of teachers, students will have a safer and more effective environment to study in. This reduces stress levels and the spillover effect would be the decrease in sucicide rates for students. \n",
    "\n",
    "\n",
    "https://www.oecd.org/education/Education-Policy-Outlook-Country-Profile-Mexico-2018.pdf\n",
    "\n"
   ]
  },
  {
   "cell_type": "markdown",
   "id": "d247579c",
   "metadata": {},
   "source": [
    "## Calculation of percentage increase/decrease of education index and suicide rates for Policy 1 (Mexico)\n"
   ]
  },
  {
   "cell_type": "code",
   "execution_count": 13,
   "id": "abf390e7",
   "metadata": {},
   "outputs": [
    {
     "data": {
      "text/plain": [
       "1.6641452344931862"
      ]
     },
     "execution_count": 13,
     "metadata": {},
     "output_type": "execute_result"
    }
   ],
   "source": [
    "percent_increase_mexico_education=((merged[\"Education index\"].iloc[1412]/merged[\"Education index\"].iloc[1411])-1)*100\n",
    "percent_increase_mexico_education\n"
   ]
  },
  {
   "cell_type": "markdown",
   "id": "422430a3",
   "metadata": {},
   "source": [
    "Mexico's education index rose by 1.66% in 2015.\n"
   ]
  },
  {
   "cell_type": "code",
   "execution_count": 15,
   "id": "cd6e6644",
   "metadata": {},
   "outputs": [
    {
     "name": "stdout",
     "output_type": "stream",
     "text": [
      "6.61478599221792\n"
     ]
    },
    {
     "data": {
      "text/plain": [
       "-0.5474452554744547"
      ]
     },
     "execution_count": 15,
     "metadata": {},
     "output_type": "execute_result"
    }
   ],
   "source": [
    "percent_increase_mexico_suicide_2013_2014=((merged[\"suicides/100k_pop\"].iloc[1411]/merged[\"suicides/100k_pop\"].iloc[1410])-1)*100\n",
    "print(percent_increase_mexico_suicide_2013_2014)\n",
    "\n",
    "percent_increase_mexico_suicide_2014_2015=((merged[\"suicides/100k_pop\"].iloc[1412]/merged[\"suicides/100k_pop\"].iloc[1411])-1)*100\n",
    "percent_increase_mexico_suicide_2014_2015\n"
   ]
  },
  {
   "cell_type": "markdown",
   "id": "11bf7fe2",
   "metadata": {},
   "source": [
    "This is accompanied by a 0.55% decrease in suicides in 2015, which is remarkably lower than the previous increase of 6.61%.\n",
    "\n",
    "The suicide rate per 100k population went from postive in the previous to negative in 2015! This shows the effectiveness of the policy in bringing down suicides for countries with an education index like Mexico.\n"
   ]
  },
  {
   "cell_type": "markdown",
   "id": "3b84eca4",
   "metadata": {},
   "source": [
    "## Policy 2 \n",
    "\n",
    "\n",
    "Next, Oman has the highest negative correlation (--0.999765) between suicide rates and education index, meaning a 1% increase in education index results in a 1% decrease in suicide rate. However, we once again do not have enough data, making the results unreliable.\n",
    "\n",
    "Thus we look at the second highest negative correlation, Estonia.\n",
    "\n",
    "To further insure the goal of language unification, the education law of 1993 made Estonian the sole language of instruction in all secondary schools by 2000. It seems that due to the full establishment of Estonian language being established as the sole language of instruction in all secondary school, children have been able to bring home what they learn in school to their parents, effectively teaching them Estonian as well. This is especially effective in teaching foreigners in Estonia, which are mainly Russians, Estonian, allowing the children of immigrants to coach their parents in how to live here, mediating their contacts with outsiders and forging ahead with language skills. With ways to interact better with the locals, there will be lesser discrimination and bullying, which will lead to smaller suicide rates.\n",
    "\n",
    "\n",
    "https://journals.sagepub.com/doi/pdf/10.2304/csee.2004.6.2.101\n"
   ]
  },
  {
   "cell_type": "markdown",
   "id": "a9fc7aeb",
   "metadata": {},
   "source": [
    "## Calculation of percentage increase/decrease of education index and suicide rates for Policy 2 (Estonia)\n"
   ]
  },
  {
   "cell_type": "code",
   "execution_count": 16,
   "id": "0f3163bf",
   "metadata": {},
   "outputs": [
    {
     "data": {
      "text/plain": [
       "3.1928480204342247"
      ]
     },
     "execution_count": 16,
     "metadata": {},
     "output_type": "execute_result"
    }
   ],
   "source": [
    "percent_increase_estonia_education=((merged[\"Education index\"].iloc[702]/merged[\"Education index\"].iloc[701])-1)*100\n",
    "percent_increase_estonia_education\n"
   ]
  },
  {
   "cell_type": "markdown",
   "id": "0bdb1e74",
   "metadata": {},
   "source": [
    "Estonia's education index rose by 3.19% in 2000.\n"
   ]
  },
  {
   "cell_type": "code",
   "execution_count": 17,
   "id": "ba3fe1c0",
   "metadata": {},
   "outputs": [
    {
     "name": "stdout",
     "output_type": "stream",
     "text": [
      "-1.2468827930174675\n"
     ]
    },
    {
     "data": {
      "text/plain": [
       "-20.707070707070706"
      ]
     },
     "execution_count": 17,
     "metadata": {},
     "output_type": "execute_result"
    }
   ],
   "source": [
    "percent_increase_estonia_suicide_1998_1999=((merged[\"suicides/100k_pop\"].iloc[701]/merged[\"suicides/100k_pop\"].iloc[700])-1)*100\n",
    "print(percent_increase_estonia_suicide_1998_1999)\n",
    "\n",
    "percent_increase_estonia_suicide_1999_2000=((merged[\"suicides/100k_pop\"].iloc[702]/merged[\"suicides/100k_pop\"].iloc[701])-1)*100\n",
    "percent_increase_estonia_suicide_1999_2000\n"
   ]
  },
  {
   "cell_type": "markdown",
   "id": "57bb4285",
   "metadata": {},
   "source": [
    "This is accompanied by a 20.7% decrease in suicides in 2000, which is significantly lower than the previous decrease of 1.25%.\n",
    "\n",
    "The decrease in suicides is a big sign that this policy is extremely effective in decreasing suicide rates for countries like Estonia.\n",
    "\n"
   ]
  },
  {
   "cell_type": "markdown",
   "id": "6b8be05d",
   "metadata": {},
   "source": [
    "## Conclusion\n",
    "\n",
    "Overall, we have concluded that these 2 policies would be fitted to be used in countries with similar situations to Mexico and Estonia respectively to effectively reduce suicide rates. Countries with a similar education index for the case of Mexico, and for the case of Estonia, the presence of many foreigners and refugees in a country. "
   ]
  },
  {
   "cell_type": "code",
   "execution_count": null,
   "id": "11fe6b10",
   "metadata": {},
   "outputs": [],
   "source": []
  }
 ],
 "metadata": {
  "kernelspec": {
   "display_name": "Python 3 (ipykernel)",
   "language": "python",
   "name": "python3"
  },
  "language_info": {
   "codemirror_mode": {
    "name": "ipython",
    "version": 3
   },
   "file_extension": ".py",
   "mimetype": "text/x-python",
   "name": "python",
   "nbconvert_exporter": "python",
   "pygments_lexer": "ipython3",
   "version": "3.9.7"
  }
 },
 "nbformat": 4,
 "nbformat_minor": 5
}
