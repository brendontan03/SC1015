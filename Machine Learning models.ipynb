{
 "cells": [
  {
   "cell_type": "code",
   "execution_count": 1,
   "id": "32bbf331",
   "metadata": {},
   "outputs": [],
   "source": [
    "import pandas as pd\n",
    "import numpy as np\n",
    "import seaborn as sb\n",
    "import matplotlib.pyplot as plt\n",
    "import pycountry_convert as pc\n",
    "from sklearn.datasets import make_classification\n",
    "from sklearn.model_selection import train_test_split\n",
    "from sklearn.linear_model import LinearRegression, LogisticRegression\n",
    "from sklearn.metrics import mean_squared_error\n",
    "from sklearn import preprocessing\n",
    "from sklearn import utils\n",
    "sb.set()"
   ]
  },
  {
   "cell_type": "code",
   "execution_count": 2,
   "id": "0c97ed81",
   "metadata": {
    "scrolled": false
   },
   "outputs": [
    {
     "data": {
      "text/html": [
       "<div>\n",
       "<style scoped>\n",
       "    .dataframe tbody tr th:only-of-type {\n",
       "        vertical-align: middle;\n",
       "    }\n",
       "\n",
       "    .dataframe tbody tr th {\n",
       "        vertical-align: top;\n",
       "    }\n",
       "\n",
       "    .dataframe thead th {\n",
       "        text-align: right;\n",
       "    }\n",
       "</style>\n",
       "<table border=\"1\" class=\"dataframe\">\n",
       "  <thead>\n",
       "    <tr style=\"text-align: right;\">\n",
       "      <th></th>\n",
       "      <th>Country</th>\n",
       "      <th>year</th>\n",
       "      <th>gdp_per_capita ($)</th>\n",
       "      <th>Total_Population</th>\n",
       "      <th>suicides_no</th>\n",
       "      <th>suicides/100k_pop</th>\n",
       "      <th>percentage of elderly(%)</th>\n",
       "      <th>Education index</th>\n",
       "      <th>Inflation, consumer prices (annual %)</th>\n",
       "      <th>Unemployment Rate</th>\n",
       "    </tr>\n",
       "  </thead>\n",
       "  <tbody>\n",
       "    <tr>\n",
       "      <th>0</th>\n",
       "      <td>Albania</td>\n",
       "      <td>1987</td>\n",
       "      <td>796</td>\n",
       "      <td>2709600</td>\n",
       "      <td>73</td>\n",
       "      <td>2.69</td>\n",
       "      <td>2.118394</td>\n",
       "      <td>NaN</td>\n",
       "      <td>NaN</td>\n",
       "      <td>NaN</td>\n",
       "    </tr>\n",
       "    <tr>\n",
       "      <th>1</th>\n",
       "      <td>Albania</td>\n",
       "      <td>1988</td>\n",
       "      <td>769</td>\n",
       "      <td>2764300</td>\n",
       "      <td>63</td>\n",
       "      <td>2.28</td>\n",
       "      <td>2.123503</td>\n",
       "      <td>NaN</td>\n",
       "      <td>NaN</td>\n",
       "      <td>NaN</td>\n",
       "    </tr>\n",
       "    <tr>\n",
       "      <th>2</th>\n",
       "      <td>Albania</td>\n",
       "      <td>1989</td>\n",
       "      <td>833</td>\n",
       "      <td>2803100</td>\n",
       "      <td>68</td>\n",
       "      <td>2.43</td>\n",
       "      <td>2.122650</td>\n",
       "      <td>NaN</td>\n",
       "      <td>NaN</td>\n",
       "      <td>NaN</td>\n",
       "    </tr>\n",
       "    <tr>\n",
       "      <th>3</th>\n",
       "      <td>Albania</td>\n",
       "      <td>1992</td>\n",
       "      <td>251</td>\n",
       "      <td>2822500</td>\n",
       "      <td>47</td>\n",
       "      <td>1.67</td>\n",
       "      <td>2.217892</td>\n",
       "      <td>0.557</td>\n",
       "      <td>226.005421</td>\n",
       "      <td>30.014999</td>\n",
       "    </tr>\n",
       "    <tr>\n",
       "      <th>4</th>\n",
       "      <td>Albania</td>\n",
       "      <td>1993</td>\n",
       "      <td>437</td>\n",
       "      <td>2807300</td>\n",
       "      <td>73</td>\n",
       "      <td>2.60</td>\n",
       "      <td>2.261960</td>\n",
       "      <td>0.542</td>\n",
       "      <td>85.004751</td>\n",
       "      <td>25.257999</td>\n",
       "    </tr>\n",
       "    <tr>\n",
       "      <th>...</th>\n",
       "      <td>...</td>\n",
       "      <td>...</td>\n",
       "      <td>...</td>\n",
       "      <td>...</td>\n",
       "      <td>...</td>\n",
       "      <td>...</td>\n",
       "      <td>...</td>\n",
       "      <td>...</td>\n",
       "      <td>...</td>\n",
       "      <td>...</td>\n",
       "    </tr>\n",
       "    <tr>\n",
       "      <th>2316</th>\n",
       "      <td>Uzbekistan</td>\n",
       "      <td>2010</td>\n",
       "      <td>1533</td>\n",
       "      <td>25651783</td>\n",
       "      <td>1464</td>\n",
       "      <td>5.71</td>\n",
       "      <td>2.023481</td>\n",
       "      <td>0.674</td>\n",
       "      <td>NaN</td>\n",
       "      <td>5.400000</td>\n",
       "    </tr>\n",
       "    <tr>\n",
       "      <th>2317</th>\n",
       "      <td>Uzbekistan</td>\n",
       "      <td>2011</td>\n",
       "      <td>1767</td>\n",
       "      <td>25978049</td>\n",
       "      <td>1640</td>\n",
       "      <td>6.31</td>\n",
       "      <td>2.061810</td>\n",
       "      <td>0.681</td>\n",
       "      <td>NaN</td>\n",
       "      <td>5.000000</td>\n",
       "    </tr>\n",
       "    <tr>\n",
       "      <th>2318</th>\n",
       "      <td>Uzbekistan</td>\n",
       "      <td>2012</td>\n",
       "      <td>1964</td>\n",
       "      <td>26381830</td>\n",
       "      <td>1835</td>\n",
       "      <td>6.96</td>\n",
       "      <td>2.093373</td>\n",
       "      <td>0.692</td>\n",
       "      <td>NaN</td>\n",
       "      <td>4.900000</td>\n",
       "    </tr>\n",
       "    <tr>\n",
       "      <th>2319</th>\n",
       "      <td>Uzbekistan</td>\n",
       "      <td>2013</td>\n",
       "      <td>2150</td>\n",
       "      <td>26838924</td>\n",
       "      <td>1950</td>\n",
       "      <td>7.27</td>\n",
       "      <td>2.109556</td>\n",
       "      <td>0.699</td>\n",
       "      <td>NaN</td>\n",
       "      <td>4.900000</td>\n",
       "    </tr>\n",
       "    <tr>\n",
       "      <th>2320</th>\n",
       "      <td>Uzbekistan</td>\n",
       "      <td>2014</td>\n",
       "      <td>2309</td>\n",
       "      <td>27313507</td>\n",
       "      <td>2095</td>\n",
       "      <td>7.67</td>\n",
       "      <td>2.099547</td>\n",
       "      <td>0.701</td>\n",
       "      <td>NaN</td>\n",
       "      <td>5.100000</td>\n",
       "    </tr>\n",
       "  </tbody>\n",
       "</table>\n",
       "<p>2321 rows × 10 columns</p>\n",
       "</div>"
      ],
      "text/plain": [
       "         Country  year  gdp_per_capita ($)  Total_Population  suicides_no  \\\n",
       "0        Albania  1987                 796           2709600           73   \n",
       "1        Albania  1988                 769           2764300           63   \n",
       "2        Albania  1989                 833           2803100           68   \n",
       "3        Albania  1992                 251           2822500           47   \n",
       "4        Albania  1993                 437           2807300           73   \n",
       "...          ...   ...                 ...               ...          ...   \n",
       "2316  Uzbekistan  2010                1533          25651783         1464   \n",
       "2317  Uzbekistan  2011                1767          25978049         1640   \n",
       "2318  Uzbekistan  2012                1964          26381830         1835   \n",
       "2319  Uzbekistan  2013                2150          26838924         1950   \n",
       "2320  Uzbekistan  2014                2309          27313507         2095   \n",
       "\n",
       "      suicides/100k_pop  percentage of elderly(%)  Education index  \\\n",
       "0                  2.69                  2.118394              NaN   \n",
       "1                  2.28                  2.123503              NaN   \n",
       "2                  2.43                  2.122650              NaN   \n",
       "3                  1.67                  2.217892            0.557   \n",
       "4                  2.60                  2.261960            0.542   \n",
       "...                 ...                       ...              ...   \n",
       "2316               5.71                  2.023481            0.674   \n",
       "2317               6.31                  2.061810            0.681   \n",
       "2318               6.96                  2.093373            0.692   \n",
       "2319               7.27                  2.109556            0.699   \n",
       "2320               7.67                  2.099547            0.701   \n",
       "\n",
       "      Inflation, consumer prices (annual %)  Unemployment Rate  \n",
       "0                                       NaN                NaN  \n",
       "1                                       NaN                NaN  \n",
       "2                                       NaN                NaN  \n",
       "3                                226.005421          30.014999  \n",
       "4                                 85.004751          25.257999  \n",
       "...                                     ...                ...  \n",
       "2316                                    NaN           5.400000  \n",
       "2317                                    NaN           5.000000  \n",
       "2318                                    NaN           4.900000  \n",
       "2319                                    NaN           4.900000  \n",
       "2320                                    NaN           5.100000  \n",
       "\n",
       "[2321 rows x 10 columns]"
      ]
     },
     "execution_count": 2,
     "metadata": {},
     "output_type": "execute_result"
    }
   ],
   "source": [
    "merged_df = pd.read_csv('merged.csv')\n",
    "merged_df"
   ]
  },
  {
   "cell_type": "markdown",
   "id": "3978710f",
   "metadata": {},
   "source": [
    "As the objective here is to find the factor that influences suicide rates the most, we begin with a simple Linear Model.\n",
    "Since 'Country' is a category, we try to determine if the continent that the country is located in is also a factor in suicide rates."
   ]
  },
  {
   "cell_type": "markdown",
   "id": "d49bd521",
   "metadata": {},
   "source": [
    "#### Divide countries into their respective continents"
   ]
  },
  {
   "cell_type": "code",
   "execution_count": 3,
   "id": "ec7ae329",
   "metadata": {},
   "outputs": [],
   "source": [
    "def country2continent(given):\n",
    "    country = pc.country_name_to_country_alpha2(given)\n",
    "    continent = pc.country_alpha2_to_continent_code(country)\n",
    "    return continent"
   ]
  },
  {
   "cell_type": "code",
   "execution_count": 4,
   "id": "f21aae6e",
   "metadata": {},
   "outputs": [],
   "source": [
    "values = []\n",
    "for item in merged_df['Country']:\n",
    "    try:\n",
    "        values.append(country2continent(item))\n",
    "    except:\n",
    "        values.append(np.NaN)\n",
    "merged_df['Continent'] = values"
   ]
  },
  {
   "cell_type": "code",
   "execution_count": 5,
   "id": "4b897edc",
   "metadata": {
    "scrolled": true
   },
   "outputs": [
    {
     "data": {
      "text/html": [
       "<div>\n",
       "<style scoped>\n",
       "    .dataframe tbody tr th:only-of-type {\n",
       "        vertical-align: middle;\n",
       "    }\n",
       "\n",
       "    .dataframe tbody tr th {\n",
       "        vertical-align: top;\n",
       "    }\n",
       "\n",
       "    .dataframe thead th {\n",
       "        text-align: right;\n",
       "    }\n",
       "</style>\n",
       "<table border=\"1\" class=\"dataframe\">\n",
       "  <thead>\n",
       "    <tr style=\"text-align: right;\">\n",
       "      <th></th>\n",
       "      <th>Country</th>\n",
       "      <th>year</th>\n",
       "      <th>gdp_per_capita ($)</th>\n",
       "      <th>Total_Population</th>\n",
       "      <th>suicides_no</th>\n",
       "      <th>suicides/100k_pop</th>\n",
       "      <th>percentage of elderly(%)</th>\n",
       "      <th>Education index</th>\n",
       "      <th>Inflation, consumer prices (annual %)</th>\n",
       "      <th>Unemployment Rate</th>\n",
       "      <th>Continent</th>\n",
       "    </tr>\n",
       "  </thead>\n",
       "  <tbody>\n",
       "    <tr>\n",
       "      <th>0</th>\n",
       "      <td>Albania</td>\n",
       "      <td>1987</td>\n",
       "      <td>796</td>\n",
       "      <td>2709600</td>\n",
       "      <td>73</td>\n",
       "      <td>2.69</td>\n",
       "      <td>2.118394</td>\n",
       "      <td>NaN</td>\n",
       "      <td>NaN</td>\n",
       "      <td>NaN</td>\n",
       "      <td>EU</td>\n",
       "    </tr>\n",
       "    <tr>\n",
       "      <th>1</th>\n",
       "      <td>Albania</td>\n",
       "      <td>1988</td>\n",
       "      <td>769</td>\n",
       "      <td>2764300</td>\n",
       "      <td>63</td>\n",
       "      <td>2.28</td>\n",
       "      <td>2.123503</td>\n",
       "      <td>NaN</td>\n",
       "      <td>NaN</td>\n",
       "      <td>NaN</td>\n",
       "      <td>EU</td>\n",
       "    </tr>\n",
       "    <tr>\n",
       "      <th>2</th>\n",
       "      <td>Albania</td>\n",
       "      <td>1989</td>\n",
       "      <td>833</td>\n",
       "      <td>2803100</td>\n",
       "      <td>68</td>\n",
       "      <td>2.43</td>\n",
       "      <td>2.122650</td>\n",
       "      <td>NaN</td>\n",
       "      <td>NaN</td>\n",
       "      <td>NaN</td>\n",
       "      <td>EU</td>\n",
       "    </tr>\n",
       "    <tr>\n",
       "      <th>3</th>\n",
       "      <td>Albania</td>\n",
       "      <td>1992</td>\n",
       "      <td>251</td>\n",
       "      <td>2822500</td>\n",
       "      <td>47</td>\n",
       "      <td>1.67</td>\n",
       "      <td>2.217892</td>\n",
       "      <td>0.557</td>\n",
       "      <td>226.005421</td>\n",
       "      <td>30.014999</td>\n",
       "      <td>EU</td>\n",
       "    </tr>\n",
       "    <tr>\n",
       "      <th>4</th>\n",
       "      <td>Albania</td>\n",
       "      <td>1993</td>\n",
       "      <td>437</td>\n",
       "      <td>2807300</td>\n",
       "      <td>73</td>\n",
       "      <td>2.60</td>\n",
       "      <td>2.261960</td>\n",
       "      <td>0.542</td>\n",
       "      <td>85.004751</td>\n",
       "      <td>25.257999</td>\n",
       "      <td>EU</td>\n",
       "    </tr>\n",
       "  </tbody>\n",
       "</table>\n",
       "</div>"
      ],
      "text/plain": [
       "   Country  year  gdp_per_capita ($)  Total_Population  suicides_no  \\\n",
       "0  Albania  1987                 796           2709600           73   \n",
       "1  Albania  1988                 769           2764300           63   \n",
       "2  Albania  1989                 833           2803100           68   \n",
       "3  Albania  1992                 251           2822500           47   \n",
       "4  Albania  1993                 437           2807300           73   \n",
       "\n",
       "   suicides/100k_pop  percentage of elderly(%)  Education index  \\\n",
       "0               2.69                  2.118394              NaN   \n",
       "1               2.28                  2.123503              NaN   \n",
       "2               2.43                  2.122650              NaN   \n",
       "3               1.67                  2.217892            0.557   \n",
       "4               2.60                  2.261960            0.542   \n",
       "\n",
       "   Inflation, consumer prices (annual %)  Unemployment Rate Continent  \n",
       "0                                    NaN                NaN        EU  \n",
       "1                                    NaN                NaN        EU  \n",
       "2                                    NaN                NaN        EU  \n",
       "3                             226.005421          30.014999        EU  \n",
       "4                              85.004751          25.257999        EU  "
      ]
     },
     "execution_count": 5,
     "metadata": {},
     "output_type": "execute_result"
    }
   ],
   "source": [
    "merged_df.head()"
   ]
  },
  {
   "cell_type": "markdown",
   "id": "9da873f3",
   "metadata": {},
   "source": [
    "#### Using one-hot encoding to create dummy variables for categorical data (Continent)"
   ]
  },
  {
   "cell_type": "code",
   "execution_count": 6,
   "id": "2736167f",
   "metadata": {},
   "outputs": [],
   "source": [
    "from sklearn.compose import ColumnTransformer\n",
    "from sklearn.preprocessing import OneHotEncoder, StandardScaler #to normalise data and encode categorical into numerical\n",
    "from sklearn.impute import SimpleImputer\n",
    "imputer = SimpleImputer()\n",
    "from sklearn.linear_model import LinearRegression\n",
    "\n",
    "y = merged_df[['suicides/100k_pop']]\n",
    "transformed = ColumnTransformer(transformers=[('onehot', OneHotEncoder(), ['Continent']),\\\n",
    "                                              ('scale', StandardScaler(), [\"gdp_per_capita ($)\",\\\n",
    "                                                                           \"Education index\",\\\n",
    "                                                                           \"Unemployment Rate\",\\\n",
    "                                                                           \"Inflation, consumer prices (annual %)\",\\\n",
    "                                                                           \"percentage of elderly(%)\"])],\\\n",
    "                                remainder='passthrough')\n",
    "\n",
    "x = transformed.fit_transform(merged_df.iloc[:, [2, 6, 7, 8, 9, 10]])\n",
    "x = imputer.fit_transform(x)\n",
    "x = x[:, [2, 6, 7, 8, 9, 10]]"
   ]
  },
  {
   "cell_type": "markdown",
   "id": "538234b1",
   "metadata": {},
   "source": [
    "## Creating Linear Regression model"
   ]
  },
  {
   "cell_type": "code",
   "execution_count": 7,
   "id": "ce4bd4e1",
   "metadata": {
    "scrolled": true
   },
   "outputs": [
    {
     "name": "stdout",
     "output_type": "stream",
     "text": [
      "Train Set : (1856, 1) (1856, 6)\n",
      "Test Set  : (465, 1) (465, 6)\n",
      "Intercept of Regression \t: b =  [8.53632431]\n",
      "Coefficients of Regression \t: a =  [[ 7.70952333  1.82824705 -1.95013619  2.56280108 -0.55656481  0.35059975]]\n",
      "\n",
      "gdp_per_capita ($): \t\t\t 7.709523325437712\n",
      "percentage of elderly(%): \t\t 1.8282470538263103\n",
      "Education index: \t\t\t -1.9501361892957134\n",
      "Inflation, consumer prices (annual %):\t 2.562801080721808\n",
      "Unemployment Rate: \t\t\t -0.5565648105597001\n",
      "Continent:\t\t\t\t 0.3505997536976365\n"
     ]
    }
   ],
   "source": [
    "x_train, x_test, y_train, y_test = train_test_split(x, y, test_size = 0.20)\n",
    "\n",
    "reg = LinearRegression()\n",
    "model = reg.fit(x_train, y_train)\n",
    "predicted = reg.predict(x_test)\n",
    "\n",
    "print(\"Train Set :\", y_train.shape, x_train.shape)\n",
    "print(\"Test Set  :\", y_test.shape, x_test.shape)\n",
    "\n",
    "# Coefficients of the Linear Regression line\n",
    "print('Intercept of Regression \\t: b = ', reg.intercept_)\n",
    "print('Coefficients of Regression \\t: a = ', reg.coef_)\n",
    "print()\n",
    "\n",
    "importance = model.coef_\n",
    "print(\"gdp_per_capita ($): \\t\\t\\t\", importance[0][0])\n",
    "print(\"percentage of elderly(%): \\t\\t\", importance[0][1])\n",
    "print(\"Education index: \\t\\t\\t\", importance[0][2])\n",
    "print(\"Inflation, consumer prices (annual %):\\t\", importance[0][3])\n",
    "print(\"Unemployment Rate: \\t\\t\\t\", importance[0][4])\n",
    "print(\"Continent:\\t\\t\\t\\t\", importance[0][5])"
   ]
  },
  {
   "cell_type": "markdown",
   "id": "348de984",
   "metadata": {},
   "source": [
    "Using the normalised data:\n",
    "$$Suicide/100kPop = 8.54 + 7.71 × GDP per Capita + 1.83 × Percentage of Elderly - 1.95 × Education Index + 2.56 × Inflation - 0.557 × Unemployment Rate + 0.351 × Continent$$"
   ]
  },
  {
   "cell_type": "markdown",
   "id": "3fae69b6",
   "metadata": {},
   "source": [
    "As we can see from this linear regression, GDP is the most significant factor, with the highest correlation. The factor with the least significance is the continent the country is in."
   ]
  },
  {
   "cell_type": "code",
   "execution_count": 8,
   "id": "4fa1e26b",
   "metadata": {},
   "outputs": [
    {
     "data": {
      "text/plain": [
       "<AxesSubplot:>"
      ]
     },
     "execution_count": 8,
     "metadata": {},
     "output_type": "execute_result"
    },
    {
     "data": {
      "image/png": "[encoded data removed]",
      "text/plain": [
       "<Figure size 1728x432 with 3 Axes>"
      ]
     },
     "metadata": {},
     "output_type": "display_data"
    }
   ],
   "source": [
    "# Draw the distribution of Response\n",
    "f, axes = plt.subplots(1, 3, figsize=(24, 6))\n",
    "sb.boxplot(data = y_train, orient = \"h\", ax = axes[0])\n",
    "sb.histplot(data = y_train, ax = axes[1])\n",
    "sb.violinplot(data = y_train, orient = \"h\", ax = axes[2])"
   ]
  },
  {
   "cell_type": "markdown",
   "id": "3413e790",
   "metadata": {},
   "source": [
    "#### Plotting the graph and determining accuracy"
   ]
  },
  {
   "cell_type": "code",
   "execution_count": 9,
   "id": "f521085b",
   "metadata": {},
   "outputs": [
    {
     "data": {
      "image/png": "[encoded data removed]",
      "text/plain": [
       "<Figure size 1728x864 with 2 Axes>"
      ]
     },
     "metadata": {},
     "output_type": "display_data"
    },
    {
     "name": "stdout",
     "output_type": "stream",
     "text": [
      "Goodness of Fit of Model \tTrain Dataset\n",
      "Explained Variance (R^2) \t: 0.2573121895315025\n",
      "Mean Squared Error (MSE) \t: 58.05321435857907\n",
      "\n",
      "Goodness of Fit of Model \tTest Dataset\n",
      "Explained Variance (R^2) \t: 0.26825430227757663\n",
      "Mean Squared Error (MSE) \t: 62.28831666790658\n",
      "\n"
     ]
    }
   ],
   "source": [
    "# Predict Response corresponding to Predictors\n",
    "y_train_pred = reg.predict(x_train)\n",
    "y_test_pred = reg.predict(x_test)\n",
    "\n",
    "# Plot the Predictions vs the True values\n",
    "f, axes = plt.subplots(1, 2, figsize=(24, 12))\n",
    "axes[0].scatter(y_train, y_train_pred, color = \"blue\")\n",
    "axes[0].plot(y_train, y_train, 'w-', linewidth = 1)\n",
    "axes[0].set_xlabel(\"True values of Suicide Rate (Train)\")\n",
    "axes[0].set_ylabel(\"Predicted values of Suicide Rate (Train)\")\n",
    "axes[1].scatter(y_test, y_test_pred, color = \"green\")\n",
    "axes[1].plot(y_test, y_test, 'w-', linewidth = 1)\n",
    "axes[1].set_xlabel(\"True values of Suicide Rate (Test)\")\n",
    "axes[1].set_ylabel(\"Predicted values of Suicide Rate (Test)\")\n",
    "plt.show()\n",
    "\n",
    "# Check the Goodness of Fit (on Train Data)\n",
    "print(\"Goodness of Fit of Model \\tTrain Dataset\")\n",
    "print(\"Explained Variance (R^2) \\t:\", reg.score(x_train, y_train))\n",
    "print(\"Mean Squared Error (MSE) \\t:\", mean_squared_error(y_train, y_train_pred))\n",
    "print()\n",
    "\n",
    "# Check the Goodness of Fit (on Test Data)\n",
    "print(\"Goodness of Fit of Model \\tTest Dataset\")\n",
    "print(\"Explained Variance (R^2) \\t:\", reg.score(x_test, y_test))\n",
    "print(\"Mean Squared Error (MSE) \\t:\", mean_squared_error(y_test, y_test_pred))\n",
    "print()"
   ]
  },
  {
   "cell_type": "code",
   "execution_count": 10,
   "id": "e0ad3f4e",
   "metadata": {},
   "outputs": [
    {
     "data": {
      "text/plain": [
       "0.2596680074302443"
      ]
     },
     "execution_count": 10,
     "metadata": {},
     "output_type": "execute_result"
    }
   ],
   "source": [
    "reg_score = reg.score(x, y)\n",
    "reg_score"
   ]
  },
  {
   "cell_type": "markdown",
   "id": "d64eb76a",
   "metadata": {},
   "source": [
    "The accuracy score is low, at 25%. This is also reflected in the graph, where all the data points are bunched together to the left, resulting in a right-skewed graph."
   ]
  },
  {
   "cell_type": "markdown",
   "id": "bf96e6d1",
   "metadata": {},
   "source": [
    "## Gradient Boosting"
   ]
  },
  {
   "cell_type": "markdown",
   "id": "d6291266",
   "metadata": {},
   "source": [
    "Due to the low accuracy score from the previous model, we will attempt to use averages of each country instead, and plot the average suicide rate from the average of individual factors of each country from 1990-2015. On top of that, we will try to boost the accuracy rate using gradient boosting on top of linear regression. Over here, we will use the gradient boosting regressor from scikit-learn to create a model."
   ]
  },
  {
   "cell_type": "code",
   "execution_count": 11,
   "id": "01bdfafe",
   "metadata": {},
   "outputs": [],
   "source": [
    "# Gradient Boosted Regression Trees model\n",
    "from sklearn.ensemble import GradientBoostingRegressor\n"
   ]
  },
  {
   "cell_type": "code",
   "execution_count": 12,
   "id": "0921f26a",
   "metadata": {
    "scrolled": false
   },
   "outputs": [
    {
     "data": {
      "text/html": [
       "<div>\n",
       "<style scoped>\n",
       "    .dataframe tbody tr th:only-of-type {\n",
       "        vertical-align: middle;\n",
       "    }\n",
       "\n",
       "    .dataframe tbody tr th {\n",
       "        vertical-align: top;\n",
       "    }\n",
       "\n",
       "    .dataframe thead th {\n",
       "        text-align: right;\n",
       "    }\n",
       "</style>\n",
       "<table border=\"1\" class=\"dataframe\">\n",
       "  <thead>\n",
       "    <tr style=\"text-align: right;\">\n",
       "      <th></th>\n",
       "      <th>Country</th>\n",
       "      <th>suicides/100k_pop</th>\n",
       "      <th>gdp_per_capita ($)</th>\n",
       "      <th>percentage of elderly(%)</th>\n",
       "      <th>Education index</th>\n",
       "      <th>Inflation, consumer prices (annual %)</th>\n",
       "      <th>Unemployment Rate</th>\n",
       "    </tr>\n",
       "  </thead>\n",
       "  <tbody>\n",
       "    <tr>\n",
       "      <th>0</th>\n",
       "      <td>Albania</td>\n",
       "      <td>3.137273</td>\n",
       "      <td>1859.045455</td>\n",
       "      <td>2.747816</td>\n",
       "      <td>0.594684</td>\n",
       "      <td>23.099078</td>\n",
       "      <td>17.873947</td>\n",
       "    </tr>\n",
       "    <tr>\n",
       "      <th>1</th>\n",
       "      <td>Antigua and Barbuda</td>\n",
       "      <td>0.541111</td>\n",
       "      <td>10448.185185</td>\n",
       "      <td>3.179196</td>\n",
       "      <td>0.665444</td>\n",
       "      <td>1.753879</td>\n",
       "      <td>NaN</td>\n",
       "    </tr>\n",
       "    <tr>\n",
       "      <th>2</th>\n",
       "      <td>Argentina</td>\n",
       "      <td>7.910645</td>\n",
       "      <td>7914.096774</td>\n",
       "      <td>4.312277</td>\n",
       "      <td>0.739000</td>\n",
       "      <td>NaN</td>\n",
       "      <td>11.297240</td>\n",
       "    </tr>\n",
       "    <tr>\n",
       "      <th>3</th>\n",
       "      <td>Armenia</td>\n",
       "      <td>2.475200</td>\n",
       "      <td>1886.680000</td>\n",
       "      <td>3.742146</td>\n",
       "      <td>0.683625</td>\n",
       "      <td>182.517678</td>\n",
       "      <td>11.537391</td>\n",
       "    </tr>\n",
       "    <tr>\n",
       "      <th>4</th>\n",
       "      <td>Aruba</td>\n",
       "      <td>8.096429</td>\n",
       "      <td>24221.642857</td>\n",
       "      <td>3.250227</td>\n",
       "      <td>NaN</td>\n",
       "      <td>3.405965</td>\n",
       "      <td>NaN</td>\n",
       "    </tr>\n",
       "  </tbody>\n",
       "</table>\n",
       "</div>"
      ],
      "text/plain": [
       "               Country  suicides/100k_pop  gdp_per_capita ($)  \\\n",
       "0              Albania           3.137273         1859.045455   \n",
       "1  Antigua and Barbuda           0.541111        10448.185185   \n",
       "2            Argentina           7.910645         7914.096774   \n",
       "3              Armenia           2.475200         1886.680000   \n",
       "4                Aruba           8.096429        24221.642857   \n",
       "\n",
       "   percentage of elderly(%)  Education index  \\\n",
       "0                  2.747816         0.594684   \n",
       "1                  3.179196         0.665444   \n",
       "2                  4.312277         0.739000   \n",
       "3                  3.742146         0.683625   \n",
       "4                  3.250227              NaN   \n",
       "\n",
       "   Inflation, consumer prices (annual %)  Unemployment Rate  \n",
       "0                              23.099078          17.873947  \n",
       "1                               1.753879                NaN  \n",
       "2                                    NaN          11.297240  \n",
       "3                             182.517678          11.537391  \n",
       "4                               3.405965                NaN  "
      ]
     },
     "execution_count": 12,
     "metadata": {},
     "output_type": "execute_result"
    }
   ],
   "source": [
    "average_df = pd.read_csv('average.csv')\n",
    "average_df.head()"
   ]
  },
  {
   "cell_type": "code",
   "execution_count": 13,
   "id": "eecd3aff",
   "metadata": {
    "scrolled": true
   },
   "outputs": [
    {
     "data": {
      "text/html": [
       "<div>\n",
       "<style scoped>\n",
       "    .dataframe tbody tr th:only-of-type {\n",
       "        vertical-align: middle;\n",
       "    }\n",
       "\n",
       "    .dataframe tbody tr th {\n",
       "        vertical-align: top;\n",
       "    }\n",
       "\n",
       "    .dataframe thead th {\n",
       "        text-align: right;\n",
       "    }\n",
       "</style>\n",
       "<table border=\"1\" class=\"dataframe\">\n",
       "  <thead>\n",
       "    <tr style=\"text-align: right;\">\n",
       "      <th></th>\n",
       "      <th>suicides/100k_pop</th>\n",
       "      <th>gdp_per_capita ($)</th>\n",
       "      <th>percentage of elderly(%)</th>\n",
       "      <th>Education index</th>\n",
       "      <th>Inflation, consumer prices (annual %)</th>\n",
       "      <th>Unemployment Rate</th>\n",
       "    </tr>\n",
       "  </thead>\n",
       "  <tbody>\n",
       "    <tr>\n",
       "      <th>count</th>\n",
       "      <td>101.000000</td>\n",
       "      <td>101.000000</td>\n",
       "      <td>101.000000</td>\n",
       "      <td>91.000000</td>\n",
       "      <td>85.000000</td>\n",
       "      <td>86.000000</td>\n",
       "    </tr>\n",
       "    <tr>\n",
       "      <th>mean</th>\n",
       "      <td>10.999127</td>\n",
       "      <td>15933.270486</td>\n",
       "      <td>4.360023</td>\n",
       "      <td>0.696992</td>\n",
       "      <td>24.692055</td>\n",
       "      <td>8.604938</td>\n",
       "    </tr>\n",
       "    <tr>\n",
       "      <th>std</th>\n",
       "      <td>8.704041</td>\n",
       "      <td>16369.438279</td>\n",
       "      <td>2.369911</td>\n",
       "      <td>0.103224</td>\n",
       "      <td>63.240443</td>\n",
       "      <td>5.121092</td>\n",
       "    </tr>\n",
       "    <tr>\n",
       "      <th>min</th>\n",
       "      <td>0.000000</td>\n",
       "      <td>720.730769</td>\n",
       "      <td>0.251356</td>\n",
       "      <td>0.379231</td>\n",
       "      <td>0.477152</td>\n",
       "      <td>0.538786</td>\n",
       "    </tr>\n",
       "    <tr>\n",
       "      <th>25%</th>\n",
       "      <td>3.918387</td>\n",
       "      <td>4124.000000</td>\n",
       "      <td>2.301365</td>\n",
       "      <td>0.638773</td>\n",
       "      <td>2.459540</td>\n",
       "      <td>5.246327</td>\n",
       "    </tr>\n",
       "    <tr>\n",
       "      <th>50%</th>\n",
       "      <td>8.164516</td>\n",
       "      <td>8829.037037</td>\n",
       "      <td>3.897582</td>\n",
       "      <td>0.701286</td>\n",
       "      <td>4.874272</td>\n",
       "      <td>7.763462</td>\n",
       "    </tr>\n",
       "    <tr>\n",
       "      <th>75%</th>\n",
       "      <td>15.541000</td>\n",
       "      <td>25836.391304</td>\n",
       "      <td>6.336681</td>\n",
       "      <td>0.769135</td>\n",
       "      <td>10.322604</td>\n",
       "      <td>10.797250</td>\n",
       "    </tr>\n",
       "    <tr>\n",
       "      <th>max</th>\n",
       "      <td>40.736818</td>\n",
       "      <td>68798.387097</td>\n",
       "      <td>9.068812</td>\n",
       "      <td>0.896080</td>\n",
       "      <td>328.463281</td>\n",
       "      <td>27.692050</td>\n",
       "    </tr>\n",
       "  </tbody>\n",
       "</table>\n",
       "</div>"
      ],
      "text/plain": [
       "       suicides/100k_pop  gdp_per_capita ($)  percentage of elderly(%)  \\\n",
       "count         101.000000          101.000000                101.000000   \n",
       "mean           10.999127        15933.270486                  4.360023   \n",
       "std             8.704041        16369.438279                  2.369911   \n",
       "min             0.000000          720.730769                  0.251356   \n",
       "25%             3.918387         4124.000000                  2.301365   \n",
       "50%             8.164516         8829.037037                  3.897582   \n",
       "75%            15.541000        25836.391304                  6.336681   \n",
       "max            40.736818        68798.387097                  9.068812   \n",
       "\n",
       "       Education index  Inflation, consumer prices (annual %)  \\\n",
       "count        91.000000                              85.000000   \n",
       "mean          0.696992                              24.692055   \n",
       "std           0.103224                              63.240443   \n",
       "min           0.379231                               0.477152   \n",
       "25%           0.638773                               2.459540   \n",
       "50%           0.701286                               4.874272   \n",
       "75%           0.769135                              10.322604   \n",
       "max           0.896080                             328.463281   \n",
       "\n",
       "       Unemployment Rate  \n",
       "count          86.000000  \n",
       "mean            8.604938  \n",
       "std             5.121092  \n",
       "min             0.538786  \n",
       "25%             5.246327  \n",
       "50%             7.763462  \n",
       "75%            10.797250  \n",
       "max            27.692050  "
      ]
     },
     "execution_count": 13,
     "metadata": {},
     "output_type": "execute_result"
    }
   ],
   "source": [
    "average_df.describe()"
   ]
  },
  {
   "cell_type": "code",
   "execution_count": 14,
   "id": "e292bff6",
   "metadata": {},
   "outputs": [],
   "source": [
    "y = average_df[[\"suicides/100k_pop\"]]\n",
    "x = average_df.drop([\"suicides/100k_pop\"], axis=1)"
   ]
  },
  {
   "cell_type": "markdown",
   "id": "5f94f529",
   "metadata": {},
   "source": [
    "Furthermore, we have to drop the country column, which is not one of the factors in regression."
   ]
  },
  {
   "cell_type": "code",
   "execution_count": 15,
   "id": "a8b70b75",
   "metadata": {},
   "outputs": [],
   "source": [
    "x.drop(['Country'], axis=1, inplace=True)"
   ]
  },
  {
   "cell_type": "code",
   "execution_count": 16,
   "id": "722f654f",
   "metadata": {},
   "outputs": [
    {
     "name": "stdout",
     "output_type": "stream",
     "text": [
      "<class 'pandas.core.frame.DataFrame'>\n",
      "RangeIndex: 101 entries, 0 to 100\n",
      "Data columns (total 5 columns):\n",
      " #   Column                                 Non-Null Count  Dtype  \n",
      "---  ------                                 --------------  -----  \n",
      " 0   gdp_per_capita ($)                     101 non-null    float64\n",
      " 1   percentage of elderly(%)               101 non-null    float64\n",
      " 2   Education index                        91 non-null     float64\n",
      " 3   Inflation, consumer prices (annual %)  85 non-null     float64\n",
      " 4   Unemployment Rate                      86 non-null     float64\n",
      "dtypes: float64(5)\n",
      "memory usage: 4.1 KB\n"
     ]
    }
   ],
   "source": [
    "x.info()"
   ]
  },
  {
   "cell_type": "code",
   "execution_count": 17,
   "id": "07c030d2",
   "metadata": {},
   "outputs": [
    {
     "data": {
      "text/plain": [
       "True"
      ]
     },
     "execution_count": 17,
     "metadata": {},
     "output_type": "execute_result"
    }
   ],
   "source": [
    "x.isnull().values.any()"
   ]
  },
  {
   "cell_type": "markdown",
   "id": "9c964323",
   "metadata": {},
   "source": [
    "A closer look shows that there are missing values in education index, inflation, and unemployment. We shall fill the missing values with the mean."
   ]
  },
  {
   "cell_type": "code",
   "execution_count": 18,
   "id": "3b12fee5",
   "metadata": {},
   "outputs": [],
   "source": [
    "x[\"Education index\"].fillna(x[\"Education index\"].mean(), inplace=True)\n",
    "x[\"Inflation, consumer prices (annual %)\"].fillna(x[\"Inflation, consumer prices (annual %)\"].mean(), inplace=True)\n",
    "x[\"Unemployment Rate\"].fillna(x[\"Unemployment Rate\"].mean(), inplace=True)"
   ]
  },
  {
   "cell_type": "code",
   "execution_count": 19,
   "id": "c1ca65a7",
   "metadata": {},
   "outputs": [
    {
     "data": {
      "text/plain": [
       "False"
      ]
     },
     "execution_count": 19,
     "metadata": {},
     "output_type": "execute_result"
    }
   ],
   "source": [
    "x.isnull().values.any()"
   ]
  },
  {
   "cell_type": "markdown",
   "id": "db1740fb",
   "metadata": {},
   "source": [
    "From here, we can continue to form our model through split train_test set again."
   ]
  },
  {
   "cell_type": "code",
   "execution_count": 20,
   "id": "6a8d33c4",
   "metadata": {},
   "outputs": [
    {
     "name": "stdout",
     "output_type": "stream",
     "text": [
      "[0.21617347 0.33316822 0.24270856 0.12573701 0.08221275]\n"
     ]
    }
   ],
   "source": [
    "y = average_df[\"suicides/100k_pop\"]\n",
    "x_train, x_test, y_train, y_test = train_test_split(x, y, test_size=0.2, random_state=1)\n",
    "# instantiate the model\n",
    "model = GradientBoostingRegressor()\n",
    "\n",
    "# fit the model \n",
    "model.fit(x_train, y_train)\n",
    "\n",
    "#predicting the target value from the model for the samples\n",
    "y_predict_test = model.predict(x_test)\n",
    "y_predict_train = model.predict(x_train)\n",
    "print(model.feature_importances_)"
   ]
  },
  {
   "cell_type": "code",
   "execution_count": 21,
   "id": "e66696fb",
   "metadata": {},
   "outputs": [
    {
     "name": "stdout",
     "output_type": "stream",
     "text": [
      "gdp_per_capita ($): \t\t\t 0.21617346516503153\n",
      "percentage of elderly(%): \t\t 0.3331682165321471\n",
      "Education index: \t\t\t 0.24270855775199537\n",
      "Inflation, consumer prices (annual %):\t 0.12573701174850047\n",
      "Unemployment Rate: \t\t\t 0.0822127488023256\n"
     ]
    }
   ],
   "source": [
    "print(\"gdp_per_capita ($): \\t\\t\\t\", model.feature_importances_[0])\n",
    "print(\"percentage of elderly(%): \\t\\t\", model.feature_importances_[1])\n",
    "print(\"Education index: \\t\\t\\t\", model.feature_importances_[2])\n",
    "print(\"Inflation, consumer prices (annual %):\\t\", model.feature_importances_[3])\n",
    "print(\"Unemployment Rate: \\t\\t\\t\", model.feature_importances_[4])"
   ]
  },
  {
   "cell_type": "code",
   "execution_count": 22,
   "id": "c33adf94",
   "metadata": {},
   "outputs": [
    {
     "name": "stdout",
     "output_type": "stream",
     "text": [
      "Gradient Boosted Regression Trees: Accuracy on training Data: 0.98279\n",
      "Gradient Boosted Regression Trees: Accuracy on test Data: 0.66218\n",
      "\n",
      "Gradient Boosted Regression Trees: The RMSE of the training set is: {:.5f} 1.1079154768202009\n",
      "Gradient Boosted Regression Trees: The RMSE of the testing set is: {:.5f} 5.450247280667782\n"
     ]
    }
   ],
   "source": [
    "#computing the accuracy of the model performance\n",
    "train_score = model.score(x_train, y_train)\n",
    "test_score = model.score(x_test, y_test)\n",
    "\n",
    "#computing root mean squared error (RMSE)\n",
    "rmse_train = np.sqrt(mean_squared_error(y_train, y_predict_train))\n",
    "rmse_test = np.sqrt(mean_squared_error(y_test, y_predict_test))\n",
    "\n",
    "print(\"Gradient Boosted Regression Trees: Accuracy on training Data: {:.5f}\".format(train_score))\n",
    "print(\"Gradient Boosted Regression Trees: Accuracy on test Data: {:.5f}\".format(test_score))\n",
    "print('\\nGradient Boosted Regression Trees: The RMSE of the training set is: {:.5f}', rmse_train)\n",
    "print('Gradient Boosted Regression Trees: The RMSE of the testing set is: {:.5f}', rmse_test)"
   ]
  },
  {
   "cell_type": "markdown",
   "id": "5a728372",
   "metadata": {},
   "source": [
    "From this model, we observe a high accuracy rate on training data. However, there is a massive disparity from that and the accuracy of the test data. This means that Gradient Boosting is overfitting the data by too much.\n"
   ]
  },
  {
   "cell_type": "markdown",
   "id": "6490cacc",
   "metadata": {},
   "source": [
    "## Logistic Regression"
   ]
  },
  {
   "cell_type": "markdown",
   "id": "1468b325",
   "metadata": {},
   "source": [
    "Due to over-fitting from the previous model, we will avoid using gradient boosting and focus on logistic regression.\n",
    "\n",
    "This logistic regression is done using the 5 variables in average_df. A dependent variable is created for y, where if there is a suicide rate of more than the average suicide rate, it will be 1, if not then 0."
   ]
  },
  {
   "cell_type": "code",
   "execution_count": 23,
   "id": "72fe6855",
   "metadata": {},
   "outputs": [],
   "source": [
    "from sklearn.datasets import make_classification\n",
    "from sklearn.model_selection import KFold, cross_val_score, train_test_split\n"
   ]
  },
  {
   "cell_type": "code",
   "execution_count": 24,
   "id": "764e521c",
   "metadata": {
    "scrolled": true
   },
   "outputs": [
    {
     "data": {
      "text/html": [
       "<div>\n",
       "<style scoped>\n",
       "    .dataframe tbody tr th:only-of-type {\n",
       "        vertical-align: middle;\n",
       "    }\n",
       "\n",
       "    .dataframe tbody tr th {\n",
       "        vertical-align: top;\n",
       "    }\n",
       "\n",
       "    .dataframe thead th {\n",
       "        text-align: right;\n",
       "    }\n",
       "</style>\n",
       "<table border=\"1\" class=\"dataframe\">\n",
       "  <thead>\n",
       "    <tr style=\"text-align: right;\">\n",
       "      <th></th>\n",
       "      <th>suicides/100k_pop</th>\n",
       "      <th>gdp_per_capita ($)</th>\n",
       "      <th>percentage of elderly(%)</th>\n",
       "      <th>Education index</th>\n",
       "      <th>Inflation, consumer prices (annual %)</th>\n",
       "      <th>Unemployment Rate</th>\n",
       "    </tr>\n",
       "  </thead>\n",
       "  <tbody>\n",
       "    <tr>\n",
       "      <th>count</th>\n",
       "      <td>101.000000</td>\n",
       "      <td>101.000000</td>\n",
       "      <td>101.000000</td>\n",
       "      <td>91.000000</td>\n",
       "      <td>85.000000</td>\n",
       "      <td>86.000000</td>\n",
       "    </tr>\n",
       "    <tr>\n",
       "      <th>mean</th>\n",
       "      <td>10.999127</td>\n",
       "      <td>15933.270486</td>\n",
       "      <td>4.360023</td>\n",
       "      <td>0.696992</td>\n",
       "      <td>24.692055</td>\n",
       "      <td>8.604938</td>\n",
       "    </tr>\n",
       "    <tr>\n",
       "      <th>std</th>\n",
       "      <td>8.704041</td>\n",
       "      <td>16369.438279</td>\n",
       "      <td>2.369911</td>\n",
       "      <td>0.103224</td>\n",
       "      <td>63.240443</td>\n",
       "      <td>5.121092</td>\n",
       "    </tr>\n",
       "    <tr>\n",
       "      <th>min</th>\n",
       "      <td>0.000000</td>\n",
       "      <td>720.730769</td>\n",
       "      <td>0.251356</td>\n",
       "      <td>0.379231</td>\n",
       "      <td>0.477152</td>\n",
       "      <td>0.538786</td>\n",
       "    </tr>\n",
       "    <tr>\n",
       "      <th>25%</th>\n",
       "      <td>3.918387</td>\n",
       "      <td>4124.000000</td>\n",
       "      <td>2.301365</td>\n",
       "      <td>0.638773</td>\n",
       "      <td>2.459540</td>\n",
       "      <td>5.246327</td>\n",
       "    </tr>\n",
       "    <tr>\n",
       "      <th>50%</th>\n",
       "      <td>8.164516</td>\n",
       "      <td>8829.037037</td>\n",
       "      <td>3.897582</td>\n",
       "      <td>0.701286</td>\n",
       "      <td>4.874272</td>\n",
       "      <td>7.763462</td>\n",
       "    </tr>\n",
       "    <tr>\n",
       "      <th>75%</th>\n",
       "      <td>15.541000</td>\n",
       "      <td>25836.391304</td>\n",
       "      <td>6.336681</td>\n",
       "      <td>0.769135</td>\n",
       "      <td>10.322604</td>\n",
       "      <td>10.797250</td>\n",
       "    </tr>\n",
       "    <tr>\n",
       "      <th>max</th>\n",
       "      <td>40.736818</td>\n",
       "      <td>68798.387097</td>\n",
       "      <td>9.068812</td>\n",
       "      <td>0.896080</td>\n",
       "      <td>328.463281</td>\n",
       "      <td>27.692050</td>\n",
       "    </tr>\n",
       "  </tbody>\n",
       "</table>\n",
       "</div>"
      ],
      "text/plain": [
       "       suicides/100k_pop  gdp_per_capita ($)  percentage of elderly(%)  \\\n",
       "count         101.000000          101.000000                101.000000   \n",
       "mean           10.999127        15933.270486                  4.360023   \n",
       "std             8.704041        16369.438279                  2.369911   \n",
       "min             0.000000          720.730769                  0.251356   \n",
       "25%             3.918387         4124.000000                  2.301365   \n",
       "50%             8.164516         8829.037037                  3.897582   \n",
       "75%            15.541000        25836.391304                  6.336681   \n",
       "max            40.736818        68798.387097                  9.068812   \n",
       "\n",
       "       Education index  Inflation, consumer prices (annual %)  \\\n",
       "count        91.000000                              85.000000   \n",
       "mean          0.696992                              24.692055   \n",
       "std           0.103224                              63.240443   \n",
       "min           0.379231                               0.477152   \n",
       "25%           0.638773                               2.459540   \n",
       "50%           0.701286                               4.874272   \n",
       "75%           0.769135                              10.322604   \n",
       "max           0.896080                             328.463281   \n",
       "\n",
       "       Unemployment Rate  \n",
       "count          86.000000  \n",
       "mean            8.604938  \n",
       "std             5.121092  \n",
       "min             0.538786  \n",
       "25%             5.246327  \n",
       "50%             7.763462  \n",
       "75%            10.797250  \n",
       "max            27.692050  "
      ]
     },
     "execution_count": 24,
     "metadata": {},
     "output_type": "execute_result"
    }
   ],
   "source": [
    "average_df.describe() #find mean suicide rate for logistic regression"
   ]
  },
  {
   "cell_type": "code",
   "execution_count": 25,
   "id": "4c035fbb",
   "metadata": {},
   "outputs": [],
   "source": [
    "average_df[\"new_suicides/100k_pop\"] = np.where(average_df[\"suicides/100k_pop\"]>11, 1, 0) #average is 10.999\n",
    "y = average_df[[\"new_suicides/100k_pop\"]]"
   ]
  },
  {
   "cell_type": "markdown",
   "id": "44ce7b4c",
   "metadata": {},
   "source": [
    "We take the cleaned x variables from above in the Gradient Boosting portion\n",
    "With the new y and the old x, we form the logistic model through a split train-test set again.\n"
   ]
  },
  {
   "cell_type": "code",
   "execution_count": 26,
   "id": "6145e49b",
   "metadata": {},
   "outputs": [],
   "source": [
    "lab_enc = preprocessing.LabelEncoder()\n",
    "y = lab_enc.fit_transform(y.values.ravel())"
   ]
  },
  {
   "cell_type": "code",
   "execution_count": 27,
   "id": "271dc52b",
   "metadata": {},
   "outputs": [
    {
     "data": {
      "text/plain": [
       "LogisticRegression()"
      ]
     },
     "execution_count": 27,
     "metadata": {},
     "output_type": "execute_result"
    }
   ],
   "source": [
    "scaler = StandardScaler()\n",
    "scaler.fit(x)\n",
    "x = scaler.transform(x)\n",
    "x_train, x_test, y_train, y_test = train_test_split(x, y, test_size=0.2)\n",
    "logmodel = LogisticRegression()\n",
    "logmodel.fit(x_train, y_train)"
   ]
  },
  {
   "cell_type": "code",
   "execution_count": 28,
   "id": "9400ffcb",
   "metadata": {},
   "outputs": [
    {
     "name": "stdout",
     "output_type": "stream",
     "text": [
      "The logistic model train accuracy is 0.7625\n",
      "The logistic model test accuracy is 0.7166666666666666\n"
     ]
    }
   ],
   "source": [
    "kfold = KFold(n_splits = 10)\n",
    "cross_validation_train = cross_val_score(logmodel, x_train, y_train,cv = kfold,scoring = 'accuracy')\n",
    "print(\"The logistic model train accuracy is\", cross_validation_train.mean())\n",
    "cross_validation_test = cross_val_score(logmodel, x_test, y_test,cv = kfold,scoring = 'accuracy')\n",
    "print(\"The logistic model test accuracy is\", cross_validation_test.mean())"
   ]
  },
  {
   "cell_type": "code",
   "execution_count": 29,
   "id": "24caa25e",
   "metadata": {},
   "outputs": [
    {
     "name": "stdout",
     "output_type": "stream",
     "text": [
      "[-0.38590177]\n",
      "[[-0.15746987  0.74479286  0.91508419  0.29593636 -0.48340017]]\n"
     ]
    }
   ],
   "source": [
    "print(logmodel.intercept_)\n",
    "print(logmodel.coef_)"
   ]
  },
  {
   "cell_type": "markdown",
   "id": "94d31a0f",
   "metadata": {},
   "source": [
    "Using normalised data:\n",
    "$$Suicide/100kPop = -0.386 - 0.158 × GDP per Capita + 0.745 × Percentage of Elderly + 0.915 × Education Index +  0.296 × Inflation - 0.483 × Unemployment Rate$$"
   ]
  },
  {
   "cell_type": "markdown",
   "id": "e81577cd",
   "metadata": {},
   "source": [
    "In this model, the train accuracy is lower than the previous model, but since both train/test accuracies are similar to each other, there is less overfitting in this data.\n",
    "From this model, we can deduce that the education index has the highest correlation to suicide rate. However, we are not able to deduce that increased in education level is a direct causation to suicide rates just yet.\n",
    "\n",
    "With education as our most significant factor, we proceed to finding the relation between education and suicide rates in our policy proposal."
   ]
  },
  {
   "cell_type": "code",
   "execution_count": null,
   "id": "e788d118",
   "metadata": {},
   "outputs": [],
   "source": []
  }
 ],
 "metadata": {
  "kernelspec": {
   "display_name": "Python 3 (ipykernel)",
   "language": "python",
   "name": "python3"
  },
  "language_info": {
   "codemirror_mode": {
    "name": "ipython",
    "version": 3
   },
   "file_extension": ".py",
   "mimetype": "text/x-python",
   "name": "python",
   "nbconvert_exporter": "python",
   "pygments_lexer": "ipython3",
   "version": "3.9.7"
  }
 },
 "nbformat": 4,
 "nbformat_minor": 5
}
